{
 "cells": [
  {
   "cell_type": "code",
   "execution_count": 19,
   "id": "9919ac06",
   "metadata": {},
   "outputs": [],
   "source": [
    "from sklearn.svm import SVC\n",
    "from sklearn.linear_model import LogisticRegression\n",
    "from sklearn.ensemble import RandomForestClassifier\n",
    "from sklearn.tree import DecisionTreeClassifier\n",
    "from sklearn.ensemble import GradientBoostingClassifier \n",
    "from sklearn.naive_bayes import GaussianNB\n",
    "import pandas as pd\n",
    "from sklearn.model_selection import train_test_split\n",
    "from sklearn.preprocessing import LabelEncoder\n",
    "from sklearn.metrics import accuracy_score, classification_report\n",
    "from sklearn.neighbors import KNeighborsClassifier \n",
    "data = pd.read_csv('expanded_dataset.csv')"
   ]
  },
  {
   "cell_type": "code",
   "execution_count": 2,
   "id": "be0e442b",
   "metadata": {},
   "outputs": [],
   "source": [
    "#code to do label encoding but manual function to understand the performance from 0 to 9 i.e Nedds improvement to excellent\n",
    "def map_scores_to_labels(score):\n",
    "    if 0 <= score <= 9:\n",
    "        return 0\n",
    "    elif 10 <= score <= 19:\n",
    "        return 1\n",
    "    elif 20 <= score <= 29:\n",
    "        return 2\n",
    "    elif 30 <= score <= 39:\n",
    "        return 3\n",
    "    elif 40 <= score <= 49:\n",
    "        return 4\n",
    "    elif 50 <= score <= 59:\n",
    "        return 5\n",
    "    elif 60 <= score <= 69:\n",
    "        return 6\n",
    "    elif 70 <= score <= 79:\n",
    "        return 7\n",
    "    elif 80 <= score <= 89:\n",
    "        return 8\n",
    "    elif 90 <= score <= 100:\n",
    "        return 9\n",
    "    else:\n",
    "        return -1  # value to signify 'Out of Range' or can't predict\n",
    "scores = data['correctness']\n",
    "Performance= [map_scores_to_labels(score) for score in scores]\n",
    "df = pd.DataFrame({'Target_performance': Performance})\n",
    "data['Target_performance']=df['Target_performance']"
   ]
  },
  {
   "cell_type": "code",
   "execution_count": 3,
   "id": "97fdeb46",
   "metadata": {},
   "outputs": [],
   "source": [
    "features = ['Category name', 'total questions', 'correct questions', 'correctness', 'Job Profile Name', 'User name']\n",
    "target = 'Target_performance'\n",
    "# Encoding categorical variables\n",
    "label_encoders = {}\n",
    "for col in ['Category name', 'Job Profile Name', 'User name']:\n",
    "    label_encoders[col] = LabelEncoder()\n",
    "    data[col] = label_encoders[col].fit_transform(data[col])"
   ]
  },
  {
   "cell_type": "code",
   "execution_count": 4,
   "id": "be38bb88",
   "metadata": {},
   "outputs": [
    {
     "data": {
      "text/html": [
       "<style>#sk-container-id-1 {color: black;}#sk-container-id-1 pre{padding: 0;}#sk-container-id-1 div.sk-toggleable {background-color: white;}#sk-container-id-1 label.sk-toggleable__label {cursor: pointer;display: block;width: 100%;margin-bottom: 0;padding: 0.3em;box-sizing: border-box;text-align: center;}#sk-container-id-1 label.sk-toggleable__label-arrow:before {content: \"▸\";float: left;margin-right: 0.25em;color: #696969;}#sk-container-id-1 label.sk-toggleable__label-arrow:hover:before {color: black;}#sk-container-id-1 div.sk-estimator:hover label.sk-toggleable__label-arrow:before {color: black;}#sk-container-id-1 div.sk-toggleable__content {max-height: 0;max-width: 0;overflow: hidden;text-align: left;background-color: #f0f8ff;}#sk-container-id-1 div.sk-toggleable__content pre {margin: 0.2em;color: black;border-radius: 0.25em;background-color: #f0f8ff;}#sk-container-id-1 input.sk-toggleable__control:checked~div.sk-toggleable__content {max-height: 200px;max-width: 100%;overflow: auto;}#sk-container-id-1 input.sk-toggleable__control:checked~label.sk-toggleable__label-arrow:before {content: \"▾\";}#sk-container-id-1 div.sk-estimator input.sk-toggleable__control:checked~label.sk-toggleable__label {background-color: #d4ebff;}#sk-container-id-1 div.sk-label input.sk-toggleable__control:checked~label.sk-toggleable__label {background-color: #d4ebff;}#sk-container-id-1 input.sk-hidden--visually {border: 0;clip: rect(1px 1px 1px 1px);clip: rect(1px, 1px, 1px, 1px);height: 1px;margin: -1px;overflow: hidden;padding: 0;position: absolute;width: 1px;}#sk-container-id-1 div.sk-estimator {font-family: monospace;background-color: #f0f8ff;border: 1px dotted black;border-radius: 0.25em;box-sizing: border-box;margin-bottom: 0.5em;}#sk-container-id-1 div.sk-estimator:hover {background-color: #d4ebff;}#sk-container-id-1 div.sk-parallel-item::after {content: \"\";width: 100%;border-bottom: 1px solid gray;flex-grow: 1;}#sk-container-id-1 div.sk-label:hover label.sk-toggleable__label {background-color: #d4ebff;}#sk-container-id-1 div.sk-serial::before {content: \"\";position: absolute;border-left: 1px solid gray;box-sizing: border-box;top: 0;bottom: 0;left: 50%;z-index: 0;}#sk-container-id-1 div.sk-serial {display: flex;flex-direction: column;align-items: center;background-color: white;padding-right: 0.2em;padding-left: 0.2em;position: relative;}#sk-container-id-1 div.sk-item {position: relative;z-index: 1;}#sk-container-id-1 div.sk-parallel {display: flex;align-items: stretch;justify-content: center;background-color: white;position: relative;}#sk-container-id-1 div.sk-item::before, #sk-container-id-1 div.sk-parallel-item::before {content: \"\";position: absolute;border-left: 1px solid gray;box-sizing: border-box;top: 0;bottom: 0;left: 50%;z-index: -1;}#sk-container-id-1 div.sk-parallel-item {display: flex;flex-direction: column;z-index: 1;position: relative;background-color: white;}#sk-container-id-1 div.sk-parallel-item:first-child::after {align-self: flex-end;width: 50%;}#sk-container-id-1 div.sk-parallel-item:last-child::after {align-self: flex-start;width: 50%;}#sk-container-id-1 div.sk-parallel-item:only-child::after {width: 0;}#sk-container-id-1 div.sk-dashed-wrapped {border: 1px dashed gray;margin: 0 0.4em 0.5em 0.4em;box-sizing: border-box;padding-bottom: 0.4em;background-color: white;}#sk-container-id-1 div.sk-label label {font-family: monospace;font-weight: bold;display: inline-block;line-height: 1.2em;}#sk-container-id-1 div.sk-label-container {text-align: center;}#sk-container-id-1 div.sk-container {/* jupyter's `normalize.less` sets `[hidden] { display: none; }` but bootstrap.min.css set `[hidden] { display: none !important; }` so we also need the `!important` here to be able to override the default hidden behavior on the sphinx rendered scikit-learn.org. See: https://github.com/scikit-learn/scikit-learn/issues/21755 */display: inline-block !important;position: relative;}#sk-container-id-1 div.sk-text-repr-fallback {display: none;}</style><div id=\"sk-container-id-1\" class=\"sk-top-container\"><div class=\"sk-text-repr-fallback\"><pre>RandomForestClassifier(random_state=42)</pre><b>In a Jupyter environment, please rerun this cell to show the HTML representation or trust the notebook. <br />On GitHub, the HTML representation is unable to render, please try loading this page with nbviewer.org.</b></div><div class=\"sk-container\" hidden><div class=\"sk-item\"><div class=\"sk-estimator sk-toggleable\"><input class=\"sk-toggleable__control sk-hidden--visually\" id=\"sk-estimator-id-1\" type=\"checkbox\" checked><label for=\"sk-estimator-id-1\" class=\"sk-toggleable__label sk-toggleable__label-arrow\">RandomForestClassifier</label><div class=\"sk-toggleable__content\"><pre>RandomForestClassifier(random_state=42)</pre></div></div></div></div></div>"
      ],
      "text/plain": [
       "RandomForestClassifier(random_state=42)"
      ]
     },
     "execution_count": 4,
     "metadata": {},
     "output_type": "execute_result"
    }
   ],
   "source": [
    "# Trainng starts here\n",
    "X = data[features]\n",
    "y = data[target]\n",
    "# Split data into training and testing sets\n",
    "X_train, X_test, y_train, y_test = train_test_split(X, y, test_size=0.2, random_state=42)\n",
    "# Initialize and train the model (Random Forest Classifier as an example)\n",
    "model =RandomForestClassifier(random_state=42)\n",
    "model.fit(X_train, y_train)\n",
    "\n"
   ]
  },
  {
   "cell_type": "code",
   "execution_count": 5,
   "id": "7ab0b05e",
   "metadata": {},
   "outputs": [
    {
     "name": "stdout",
     "output_type": "stream",
     "text": [
      "Accuracy: 1.0\n",
      "Classification Report:\n",
      "              precision    recall  f1-score   support\n",
      "\n",
      "          -1       1.00      1.00      1.00       165\n",
      "           0       1.00      1.00      1.00        33\n",
      "           1       1.00      1.00      1.00        25\n",
      "           2       1.00      1.00      1.00        18\n",
      "           3       1.00      1.00      1.00        20\n",
      "           4       1.00      1.00      1.00        14\n",
      "           5       1.00      1.00      1.00        28\n",
      "           6       1.00      1.00      1.00        19\n",
      "           7       1.00      1.00      1.00        16\n",
      "           8       1.00      1.00      1.00        22\n",
      "           9       1.00      1.00      1.00        40\n",
      "\n",
      "    accuracy                           1.00       400\n",
      "   macro avg       1.00      1.00      1.00       400\n",
      "weighted avg       1.00      1.00      1.00       400\n",
      "\n"
     ]
    }
   ],
   "source": [
    "# Make predictions on the test set\n",
    "predictions = model.predict(X_test)\n",
    "# Evaluate the model\n",
    "accuracy = accuracy_score(y_test, predictions)\n",
    "class_report = classification_report(y_test, predictions)\n",
    "print(f'Accuracy: {accuracy}')\n",
    "print(f'Classification Report:\\n{class_report}')\n"
   ]
  },
  {
   "cell_type": "code",
   "execution_count": 6,
   "id": "c9630a7b",
   "metadata": {},
   "outputs": [
    {
     "name": "stdout",
     "output_type": "stream",
     "text": [
      "Predicted Performance for new data: [5]\n"
     ]
    }
   ],
   "source": [
    "# Prediction using new data\n",
    "new_data = pd.DataFrame({\n",
    "    'Category name': ['Front-end Technologies(Proficiency in HTML, CSS, JavaScript, and front-end frameworks/libraries like React, Angular, or Vue.js.)'],\n",
    "    'total questions': [10],\n",
    "    'correct questions': [5],\n",
    "    'correctness': [50],\n",
    "    'Job Profile Name': ['Full Stack Developer'],\n",
    "    'User name': ['andrew']\n",
    "})\n",
    "# Transform categorical columns in new data\n",
    "for col in ['Category name', 'Job Profile Name', 'User name']:\n",
    "    new_data[col] = label_encoders[col].transform(new_data[col])\n",
    "\n",
    "# Predict 'Performance' for new data\n",
    "predicted_performance = model.predict(new_data)\n",
    "print(f'Predicted Performance for new data: {predicted_performance}')"
   ]
  },
  {
   "cell_type": "code",
   "execution_count": 7,
   "id": "9f920bfc",
   "metadata": {},
   "outputs": [
    {
     "name": "stdout",
     "output_type": "stream",
     "text": [
      "Precision: 1.0\n",
      "Recall: 1.0\n",
      "F1-score: 1.0\n"
     ]
    }
   ],
   "source": [
    "# Consider using other evaluation metrics in addition to accuracy, like precision, recall, and F1-score\n",
    "from sklearn.metrics import precision_score, recall_score, f1_score\n",
    "\n",
    "# Evaluate the model with additional metrics\n",
    "precision = precision_score(y_test, predictions, average='weighted')\n",
    "recall = recall_score(y_test, predictions, average='weighted')\n",
    "f1 = f1_score(y_test, predictions, average='weighted')\n",
    "\n",
    "print(f'Precision: {precision}')\n",
    "print(f'Recall: {recall}')\n",
    "print(f'F1-score: {f1}')"
   ]
  },
  {
   "cell_type": "code",
   "execution_count": 8,
   "id": "26556381",
   "metadata": {},
   "outputs": [],
   "source": [
    "#performing K cross-validation"
   ]
  },
  {
   "cell_type": "code",
   "execution_count": 9,
   "id": "70079fdc",
   "metadata": {},
   "outputs": [],
   "source": [
    "from sklearn.model_selection import cross_val_score"
   ]
  },
  {
   "cell_type": "code",
   "execution_count": 20,
   "id": "bcd6bff9",
   "metadata": {},
   "outputs": [
    {
     "name": "stdout",
     "output_type": "stream",
     "text": [
      "K-NN 0.9695\n",
      "Random Forest Classifier 1.0\n",
      "Support Vector Machine 0.6995075100338257\n",
      "Gradient Boosting 1.0\n",
      "Decision Tree 1.0\n",
      "Naive Bays 0.9764999999999999\n"
     ]
    }
   ],
   "source": [
    "def average_accuracy(arr):\n",
    "    score=0\n",
    "    for val in arr:\n",
    "        score+=val\n",
    "    return (score/len(arr))\n",
    "# lr=cross_val_score(LogisticRegression(solver='lbfgs', max_iter=1000,),X,y,cv=4)\n",
    "knn=cross_val_score(KNeighborsClassifier(),X,y,cv=4)\n",
    "nb=cross_val_score(GaussianNB(),X,y,cv=4)\n",
    "rf=cross_val_score(RandomForestClassifier(),X,y,cv=4)\n",
    "svc=cross_val_score(SVC(),X,y,cv=7)\n",
    "gb=cross_val_score(GradientBoostingClassifier(),X,y,cv=4)\n",
    "dt=cross_val_score(DecisionTreeClassifier(),X,y,cv=4)\n",
    "# print(\"Logistic regression:\", average_accuracy(lr))\n",
    "print(\"K-NN\",average_accuracy(knn))\n",
    "print(\"Random Forest Classifier\",average_accuracy(rf))\n",
    "print(\"Support Vector Machine\",average_accuracy(svc))\n",
    "print(\"Gradient Boosting\",average_accuracy(gb))\n",
    "print(\"Decision Tree\",average_accuracy(dt))\n",
    "print(\"Naive Bays\",average_accuracy(nb))"
   ]
  },
  {
   "cell_type": "code",
   "execution_count": 11,
   "id": "c70a62fe",
   "metadata": {},
   "outputs": [
    {
     "name": "stdout",
     "output_type": "stream",
     "text": [
      "Decision Tree Accuracy: 1.0\n",
      "Random Forest Accuracy: 1.0\n"
     ]
    }
   ],
   "source": [
    "models = {\n",
    "    'Decision Tree': DecisionTreeClassifier(random_state=42),\n",
    "    'Random Forest': RandomForestClassifier(random_state=42),\n",
    "}\n",
    "\n",
    "for name, model in models.items():\n",
    "    model.fit(X_train, y_train)\n",
    "    predictions = model.predict(X_test)\n",
    "    accuracy = accuracy_score(y_test, predictions)\n",
    "    print(f'{name} Accuracy: {accuracy}')"
   ]
  },
  {
   "cell_type": "code",
   "execution_count": 16,
   "id": "74009673",
   "metadata": {},
   "outputs": [
    {
     "name": "stdout",
     "output_type": "stream",
     "text": [
      "Predicted Performance for new data: [9]\n"
     ]
    }
   ],
   "source": [
    "# Prediction using new data\n",
    "new_data = pd.DataFrame({\n",
    "    'Category name': ['Front-end Technologies(Proficiency in HTML, CSS, JavaScript, and front-end frameworks/libraries like React, Angular, or Vue.js.)'],\n",
    "    'total questions': [10],\n",
    "    'correct questions': [10],\n",
    "    'correctness': [100],\n",
    "    'Job Profile Name': ['Full Stack Developer'],\n",
    "    'User name': ['andrew']\n",
    "})\n",
    "# Transform categorical columns in new data\n",
    "for col in ['Category name', 'Job Profile Name', 'User name']:\n",
    "    new_data[col] = label_encoders[col].transform(new_data[col])\n",
    "\n",
    "# Predict 'Performance' for new data\n",
    "predicted_performance = model.predict(new_data)\n",
    "print(f'Predicted Performance for new data: {predicted_performance}')"
   ]
  },
  {
   "cell_type": "code",
   "execution_count": null,
   "id": "a1a6d3aa",
   "metadata": {},
   "outputs": [
    {
     "data": {
      "text/plain": [
       "array([[147,   0,   0,   0,   0,   0,   0,   0,   0,   0,   0],\n",
       "       [  0,  45,   0,   0,   0,   0,   0,   0,   0,   0,   0],\n",
       "       [  0,   0,  15,   0,   0,   0,   0,   0,   0,   0,   0],\n",
       "       [  0,   0,   0,  20,   0,   0,   0,   0,   0,   0,   0],\n",
       "       [  0,   0,   0,   0,  25,   0,   0,   0,   0,   0,   0],\n",
       "       [  0,   0,   0,   0,   0,  17,   0,   0,   0,   0,   0],\n",
       "       [  0,   0,   0,   0,   0,   0,  20,   0,   0,   0,   0],\n",
       "       [  0,   0,   0,   0,   0,   0,   0,  17,   0,   0,   0],\n",
       "       [  0,   0,   0,   0,   0,   0,   0,   0,  25,   0,   0],\n",
       "       [  0,   0,   0,   0,   0,   0,   0,   0,   0,  16,   0],\n",
       "       [  0,   0,   0,   0,   0,   0,   0,   0,   0,   0,  53]],\n",
       "      dtype=int64)"
      ]
     },
     "execution_count": 43,
     "metadata": {},
     "output_type": "execute_result"
    }
   ],
   "source": [
    "from sklearn.metrics import confusion_matrix\n",
    "y_pred =model.predict(X_test)\n",
    "cm = confusion_matrix(y_test, y_pred)\n",
    "cm"
   ]
  },
  {
   "cell_type": "code",
   "execution_count": null,
   "id": "29ff5829",
   "metadata": {},
   "outputs": [
    {
     "data": {
      "text/plain": [
       "Text(95.72222222222221, 0.5, 'Actual')"
      ]
     },
     "execution_count": 44,
     "metadata": {},
     "output_type": "execute_result"
    },
    {
     "data": {
      "image/png": "[encoded data removed]",
      "text/plain": [
       "<Figure size 1000x700 with 2 Axes>"
      ]
     },
     "metadata": {},
     "output_type": "display_data"
    }
   ],
   "source": [
    "%matplotlib inline\n",
    "import matplotlib.pyplot as plt\n",
    "import seaborn as sn\n",
    "plt.figure(figsize=(10,7))\n",
    "sn.heatmap(cm,annot=True)\n",
    "plt.xlabel('Predicted')\n",
    "plt.ylabel('Actual')"
   ]
  },
  {
   "cell_type": "code",
   "execution_count": null,
   "id": "11d9cbe0",
   "metadata": {},
   "outputs": [],
   "source": []
  }
 ],
 "metadata": {
  "kernelspec": {
   "display_name": "Python 3 (ipykernel)",
   "language": "python",
   "name": "python3"
  },
  "language_info": {
   "codemirror_mode": {
    "name": "ipython",
    "version": 3
   },
   "file_extension": ".py",
   "mimetype": "text/x-python",
   "name": "python",
   "nbconvert_exporter": "python",
   "pygments_lexer": "ipython3",
   "version": "3.10.7"
  }
 },
 "nbformat": 4,
 "nbformat_minor": 5
}
